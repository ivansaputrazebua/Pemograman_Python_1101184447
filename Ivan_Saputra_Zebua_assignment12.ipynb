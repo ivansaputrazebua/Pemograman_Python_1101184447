{
  "nbformat": 4,
  "nbformat_minor": 0,
  "metadata": {
    "colab": {
      "name": "Ivan Saputra Zebua_assignment12.ipynb",
      "provenance": [],
      "collapsed_sections": [],
      "authorship_tag": "ABX9TyP6kskPTnasIP8CH2yRD86A",
      "include_colab_link": true
    },
    "kernelspec": {
      "name": "python3",
      "display_name": "Python 3"
    }
  },
  "cells": [
    {
      "cell_type": "markdown",
      "metadata": {
        "id": "view-in-github",
        "colab_type": "text"
      },
      "source": [
        "<a href=\"https://colab.research.google.com/github/ivansaputrazebua/Pemograman_Python_1101184447/blob/main/Ivan_Saputra_Zebua_assignment12.ipynb\" target=\"_parent\"><img src=\"https://colab.research.google.com/assets/colab-badge.svg\" alt=\"Open In Colab\"/></a>"
      ]
    },
    {
      "cell_type": "code",
      "metadata": {
        "id": "Q3DekqRg-InX"
      },
      "source": [
        "import numpy as np"
      ],
      "execution_count": 1,
      "outputs": []
    },
    {
      "cell_type": "code",
      "metadata": {
        "colab": {
          "base_uri": "https://localhost:8080/"
        },
        "id": "OMNUAJ2u-gTH",
        "outputId": "df12a078-a276-42da-c299-4d7778d4748f"
      },
      "source": [
        "fc = int(input(\"fc = enter number: \"))\r\n",
        "ht = int(input(\"ht = enter number: \"))\r\n",
        "hr = int(input(\"hr = enter number: \"))\r\n",
        "d = int(input(\"d = enter number: \"))\r\n",
        "cm = input(\"cm = enter string: \"))"
      ],
      "execution_count": 3,
      "outputs": [
        {
          "output_type": "stream",
          "text": [
            "fc = enter number: 1000\n",
            "ht = enter number: 1000\n",
            "hr = enter number: 1000\n",
            "cm = enter number: 1000\n"
          ],
          "name": "stdout"
        }
      ]
    },
    {
      "cell_type": "code",
      "metadata": {
        "colab": {
          "base_uri": "https://localhost:8080/"
        },
        "id": "mw0IT2_dCBY6",
        "outputId": "3eb8016d-9e7b-4d33-c6fb-f43c02472998"
      },
      "source": [
        "if 400 <= fc <= 1500:\r\n",
        "  C1 = 69.55\r\n",
        "  C2 = 26.16\r\n",
        "if 1500 <= fc <= 2000:\r\n",
        "  C1 = 46.3\r\n",
        "  C2 = 33.9\r\n",
        "\r\n",
        "print(C1)\r\n",
        "print(C2)"
      ],
      "execution_count": 4,
      "outputs": [
        {
          "output_type": "stream",
          "text": [
            "69.55\n",
            "26.16\n"
          ],
          "name": "stdout"
        }
      ]
    },
    {
      "cell_type": "code",
      "metadata": {
        "id": "DAmYeX6bDfXt"
      },
      "source": [
        "if cm == urban:\r\n",
        "  Cm = 0\r\n",
        "if cm == suburban:\r\n",
        "  Cm = (-2)*(((np.log10(fc/28))**2)-5.4)\r\n",
        "if cm == open:\r\n",
        "  Cm = (-4.78)*((np.log10(fc))**2)+(18.33*(np.log10(fc)))-(40.94)\r\n",
        "\r\n",
        "print(Cm)"
      ],
      "execution_count": null,
      "outputs": []
    },
    {
      "cell_type": "code",
      "metadata": {
        "id": "dAynu1KJH5jm"
      },
      "source": [
        "a(hR) = {1.1*(np.log10(fc))-0.7}hr-(1.56*(np.log10(fc))-0.8)"
      ],
      "execution_count": null,
      "outputs": []
    },
    {
      "cell_type": "code",
      "metadata": {
        "id": "9kH-VKEbGjSB"
      },
      "source": [
        "def (Lp,C1,C2,fc,ht,d,Cm,a(hR)):\r\n",
        "  Lp = C1 + C2 * np.log10(fc) - 13.83 * np.log10(ht) - a(hR) + (44.9 - 6.55 * np.log10(ht) * np.log10(d)) + Cm"
      ],
      "execution_count": null,
      "outputs": []
    },
    {
      "cell_type": "code",
      "metadata": {
        "id": "H23FM09hJ7qf"
      },
      "source": [
        "print(\"Lp = \",Lp,\"dB\")"
      ],
      "execution_count": null,
      "outputs": []
    }
  ]
}